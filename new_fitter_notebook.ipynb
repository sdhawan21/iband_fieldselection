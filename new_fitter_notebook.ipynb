{
 "cells": [
  {
   "cell_type": "code",
   "execution_count": 4,
   "metadata": {},
   "outputs": [],
   "source": [
    "import numpy as np \n",
    "import matplotlib.pyplot as plt \n",
    "import pymultinest as pmn\n",
    "import sys\n",
    "\n",
    "from exoticDE_fit.genclass_cosm import Evaluate_cosmology, Cosmology\n"
   ]
  },
  {
   "cell_type": "code",
   "execution_count": 9,
   "metadata": {},
   "outputs": [],
   "source": [
    "model = 'bimetric_b1'\n",
    "\n",
    "c = 299792.458 #speed of light in km/s\n",
    "data_dict = {'CMB':'Planck', 'SN':'Pantheon_nohighz', 'SN_withCalib':['Pantheon_withCalib', 1], 'lowzSN':'ZTF-MSIP','BAO':'BAO15','Ratio':'RatioD17', 'H0':[74.02, 0.0191], 'Lenses':'H0liCOW', 'MB':[-19.222, 0.036]}\n",
    "data_sec_dict = {'Om':[.3, .01], 'Clocks':'Moresco', 'QSO':'RL19', 'fitsys':[0.0, 0.02]}\n",
    "\n",
    "probes = [False, False, True, False, False, False, False, False, False]\n",
    "probes_sec =  [False, False, False, False]\n"
   ]
  },
  {
   "cell_type": "code",
   "execution_count": 10,
   "metadata": {},
   "outputs": [],
   "source": [
    "theta_fid = [.3, -1., 68.8]\n",
    "cosmo = Cosmology(model, theta_fid)\n",
    "ec = Evaluate_cosmology(model,theta_fid,probes, probes_sec, data_dict, data_sec_dict)\n",
    "#print(ec.z_sn, ec.cov_sn)\n",
    "ec.run_nest(nlp=800, outdirec='chains/', sample_eff = .8)\n"
   ]
  },
  {
   "cell_type": "code",
   "execution_count": null,
   "metadata": {},
   "outputs": [],
   "source": [
    "#cell for plotting dark energy constraints"
   ]
  },
  {
   "cell_type": "code",
   "execution_count": 10,
   "metadata": {},
   "outputs": [
    {
     "name": "stdout",
     "output_type": "stream",
     "text": [
      "74.41899807790121 74.39652470044949\n"
     ]
    },
    {
     "data": {
      "image/png": "[encoded data removed]",
      "text/plain": [
       "<Figure size 432x288 with 1 Axes>"
      ]
     },
     "metadata": {
      "needs_background": "light"
     },
     "output_type": "display_data"
    }
   ],
   "source": [
    "#cell for plotting H0\n",
    "bimetric_nohigh = np.loadtxt('chains/bimetric_b1-SNMBSN_local/data--Pantheon_nohighz---------19.222-0.036-----1200lp-post_equal_we')\n",
    "bimetric_all = np.loadtxt('chains/bimetric_b1-SNMBSN_local/data--Pantheon--------19.222-0.036-----1500lp-post_equal_weights.dat')\n",
    "\n",
    "slowroll_nohigh = np.loadtxt('chains/slowroll-SNMBSN_local/data--Pantheon_nohighz---------19.222-0.036-----1200lp-post_equal_weigh')\n",
    "slowroll_all = np.loadtxt('chains/slowroll-SNMBSN_local/data--Pantheon--------19.222-0.036-----1500lp-post_equal_weights.dat')\n",
    "\n",
    "\n",
    "#plt.hist(bimetric_nohigh[:,2], histtype='step', linewidth=4, label='No highz')\n",
    "#plt.hist(bimetric_all[:,2], histtype='step', linewidth=4, label='All')\n",
    "\n",
    "\n",
    "plt.hist(slowroll_nohigh[:,2], histtype='step', linewidth=4, label='No highz')\n",
    "plt.hist(slowroll_all[:,2], histtype='step', linewidth=4, label='All')\n",
    "print(np.median(slowroll_all[:,2]), np.median(slowroll_nohigh[:,2]))\n",
    "plt.show()"
   ]
  },
  {
   "cell_type": "code",
   "execution_count": null,
   "metadata": {},
   "outputs": [],
   "source": [
    "ww = np.loadtxt('chains/lcdm-SNwithCalib/data---Pantheon_withCalib-------------800lp-post_equal_weights.dat')\n",
    "ww_wcdm = np.loadtxt('chains/wcdm-SNMBSN_local/data--Pantheon--------19.222-0.036-----1500lp-post_equal_weights.dat')\n",
    "ww_slowroll = np.loadtxt('chains/slowroll-SNMBSN_local/data--Pantheon--------19.222-0.036-----1500lp-post_equal_weights.dat')\n",
    "ww_bimetric = np.loadtxt('chains/bimetric_b1-SNMBSN_local/data--Pantheon--------19.222-0.036-----1500lp-post_equal_weights.dat')\n",
    "ww_algthaw = np.loadtxt('chains/alg_thaw-SNMBSN_local/data--Pantheon--------19.222-0.036-----1500lp-post_equal_weights.dat')\n",
    "ww_grownu = np.loadtxt('chains/grownu-SNMBSN_local/data--Pantheon--------19.222-0.036-----1500lp-post_equal_weights.dat')\n"
   ]
  }
 ],
 "metadata": {
  "kernelspec": {
   "display_name": "Python 3",
   "language": "python",
   "name": "python3"
  },
  "language_info": {
   "codemirror_mode": {
    "name": "ipython",
    "version": 3
   },
   "file_extension": ".py",
   "mimetype": "text/x-python",
   "name": "python",
   "nbconvert_exporter": "python",
   "pygments_lexer": "ipython3",
   "version": "3.7.3"
  }
 },
 "nbformat": 4,
 "nbformat_minor": 2
}
