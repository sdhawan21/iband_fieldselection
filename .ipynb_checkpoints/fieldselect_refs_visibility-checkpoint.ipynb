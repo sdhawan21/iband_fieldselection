{
 "cells": [
  {
   "cell_type": "code",
   "execution_count": 1,
   "metadata": {},
   "outputs": [
    {
     "name": "stderr",
     "output_type": "stream",
     "text": [
      "WARNING: OldEarthOrientationDataWarning: Your version of the IERS Bulletin A is 19.9 days old. For best precision (on the order of arcseconds), you must download an up-to-date IERS Bulletin A table. To do so, run:\n",
      "\n",
      ">>> from astroplan import download_IERS_A\n",
      ">>> download_IERS_A()\n",
      " [astroplan.utils]\n"
     ]
    }
   ],
   "source": [
    "import numpy as np\n",
    "import glob\n",
    "\n",
    "from astropy.io import ascii\n",
    "from astroplan import Observer, FixedTarget, time_grid_from_range, observability_table\n",
    "from astropy.time import Time\n",
    "\n",
    "from astroplan import (AltitudeConstraint, AirmassConstraint,\n",
    "                       AtNightConstraint, MoonSeparationConstraint)\n"
   ]
  },
  {
   "cell_type": "code",
   "execution_count": 48,
   "metadata": {},
   "outputs": [
    {
     "name": "stdout",
     "output_type": "stream",
     "text": [
      "[255. 256. 257. 303. 304. 305. 353. 354. 355. 412. 651. 652. 653. 695.\n",
      " 696. 697. 698. 710. 737. 738. 748. 749. 750. 751. 782. 783. 784. 785.\n",
      " 786. 787. 814. 816. 817. 818. 838. 839. 840. 842. 858. 859. 860. 861.\n",
      " 870. 871. 872. 874. 875. 876.] 48 48\n"
     ]
    }
   ],
   "source": [
    "flist = np.loadtxt('FieldLists/Feb_fieldList_2hr0.87fracTime.txt')\n",
    "\n",
    "#get fields and check for refs\n",
    "gl_ref = glob.glob('ztf*.csv')\n",
    "ref_fin = []\n",
    "\n",
    "for vals in flist:\n",
    "    rcid_arr = []\n",
    "    for fval in gl_ref:\n",
    "        ref_fromRahul = ascii.read(fval, format='csv')\n",
    "    \n",
    "        rcid = ref_fromRahul[ref_fromRahul['field'] == vals]['rcid']\n",
    "        rcid_arr.append(rcid)\n",
    "    \n",
    "    ra = ref_fromRahul[ref_fromRahul['field'] == vals]['RA']\n",
    "    dec = ref_fromRahul[ref_fromRahul['field'] == vals]['Dec']\n",
    "    \n",
    "    if rcid_arr[0] >= 59  and rcid_arr[2] >= 59 and rcid_arr[1] >= 59:\n",
    "        ref_fin.append([vals, ra[0], dec[0]])\n",
    "ref_fin = np.array(ref_fin)\n",
    "ref_fin = flist\n",
    "print(ref_fin, len(ref_fin), len(flist))\n",
    "#np.savetxt('Feb_fieldList_2hr0.75fracTime_withRef.txt', ref_fin)"
   ]
  },
  {
   "cell_type": "code",
   "execution_count": 49,
   "metadata": {},
   "outputs": [],
   "source": [
    "Paranal = Observer.at_site(\"Paranal\")\n",
    "# hr_in_night = np.zeros(len(times))\n",
    "flist = np.loadtxt('FieldLists/Feb_fieldlist_2hr0.87fracTime.txt', skiprows=1)\n",
    "#which of the fields with the references are visibile from Paranal\n",
    "from astropy.table import Table\n",
    "target_table = Table.read('fields.txt', format='ascii')\n",
    "mask = []\n",
    "for i in target_table['%ID']:\n",
    "    if i in flist:\n",
    "        mask.append(True)\n",
    "    else:\n",
    "        mask.append(False)\n",
    "target_table = target_table[mask]\n",
    "tar_tab = target_table[['%ID', 'RA', 'Dec']]\n",
    "from astropy.coordinates import SkyCoord, get_moon, get_sun\n",
    "import astropy.units as u\n",
    "targets = [FixedTarget(coord=SkyCoord(ra=ra*u.deg, dec=dec*u.deg), name=name)\n",
    "           for name, ra, dec in tar_tab]"
   ]
  },
  {
   "cell_type": "code",
   "execution_count": 50,
   "metadata": {},
   "outputs": [],
   "source": [
    "times = time_grid_from_range(Time([\"2019-10-15 00:00\", \"2020-02-16 00:00\"]), time_resolution=1*u.day)\n",
    "#times = time_grid_from_range(Time([\"2018-01-01 00:00\", \"2019-01-01 00:00\"]), time_resolution=1*u.day)\n",
    "AAMfield_observability = np.zeros((len(targets),len(times)))\n",
    "for time_num, time in enumerate(times):\n",
    "    sun_moon_angle_norm = get_moon(time, location=Paranal.location).separation(get_sun(time)).radian/np.pi\n",
    "    constraints = [AirmassConstraint(2.0), \n",
    "                   AtNightConstraint.twilight_astronomical(), \n",
    "                   MoonSeparationConstraint(sun_moon_angle_norm**2*(55*u.deg))]\n",
    "    AAMfield_observability[:,time_num] = observability_table(constraints, \n",
    "                                                          Paranal, targets, \n",
    "                                                          time_range=[time, time + 1*u.day], \n",
    "                                                          time_grid_resolution = 1*u.minute)[\"fraction of time observable\"]\n"
   ]
  },
  {
   "cell_type": "code",
   "execution_count": 6,
   "metadata": {},
   "outputs": [
    {
     "name": "stdout",
     "output_type": "stream",
     "text": [
      "66 [253, 303, 304, 305, 354, 355, 405, 406, 457, 491, 514, 543, 564, 565, 593, 594, 614, 615, 643, 644, 662, 663, 682, 683, 684, 691, 706, 707, 708, 724, 725, 726, 736, 747, 748, 763, 764, 765, 766, 782, 783, 784, 796, 797, 798, 814, 825, 826, 827, 828, 838, 839, 840, 847, 848, 849, 858, 859, 864, 865, 870, 871, 872, 874, 875, 876]\n"
     ]
    }
   ],
   "source": [
    "from astropy.table import Table\n",
    "\n",
    "AAMfield_observability = np.loadtxt('AllObservability.txt')\n",
    "target_table = Table.read('fields.txt', format='ascii')\n",
    "tar_tab = target_table[['%ID', 'RA', 'Dec']]\n",
    "\n",
    "#paranal observability\n",
    "field_list = []\n",
    "field_index = []\n",
    "field_perc_obs = []\n",
    "ebv_tar = target_table['Ebv']\n",
    "n_hr = 2\n",
    "frac = 0.92\n",
    "for i, fieldval in enumerate(AAMfield_observability):\n",
    "    obs_1hr = fieldval[fieldval > n_hr/24]\n",
    "    perc_obs = len(obs_1hr)/len(fieldval)\n",
    "    if  perc_obs > frac and i < 879 and ebv_tar[i] <= 0.1:\n",
    "        #print(i)\n",
    "        field_list.append(fieldval)\n",
    "        field_index.append(int(i+1))\n",
    "        field_perc_obs.append(perc_obs)\n",
    "#vs = np.vstack([flist[:,0], flist[:,1], flist[:,2], field_perc_obs]).T\n",
    "print(len(field_index), field_index)\n",
    "#np.savetxt('Feb_fieldlist_2hr0.75fracTime_withRef_ParanalObs1hr.txt', vs)"
   ]
  },
  {
   "cell_type": "code",
   "execution_count": null,
   "metadata": {},
   "outputs": [],
   "source": []
  }
 ],
 "metadata": {
  "kernelspec": {
   "display_name": "Python 3",
   "language": "python",
   "name": "python3"
  },
  "language_info": {
   "codemirror_mode": {
    "name": "ipython",
    "version": 3
   },
   "file_extension": ".py",
   "mimetype": "text/x-python",
   "name": "python",
   "nbconvert_exporter": "python",
   "pygments_lexer": "ipython3",
   "version": "3.7.3"
  }
 },
 "nbformat": 4,
 "nbformat_minor": 2
}
